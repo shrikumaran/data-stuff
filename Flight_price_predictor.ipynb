{
  "nbformat": 4,
  "nbformat_minor": 0,
  "metadata": {
    "colab": {
      "name": "Flight price predictor.ipynb",
      "provenance": [],
      "collapsed_sections": []
    },
    "kernelspec": {
      "name": "python3",
      "display_name": "Python 3"
    }
  },
  "cells": [
    {
      "cell_type": "code",
      "metadata": {
        "id": "BzW9G-i8qc6a",
        "colab_type": "code",
        "colab": {
          "base_uri": "https://localhost:8080/",
          "height": 70
        },
        "outputId": "80617f74-bde6-487d-f72f-3b47f39b823e"
      },
      "source": [
        "from sklearn.metrics import log_loss,accuracy_score,roc_auc_score\n",
        "from sklearn import preprocessing\n",
        "from sklearn.metrics import mean_squared_error\n",
        "import numpy as np\n",
        "import pandas as pd\n",
        "import argparse\n",
        "import os\n",
        "from hyperopt import hp\n",
        "from hyperopt import fmin, tpe, hp, STATUS_OK, Trials\n",
        "import pickle\n",
        "import sys\n",
        "import xgboost\n",
        "from xgboost import XGBRegressor \n",
        "from sklearn.model_selection import train_test_split\n",
        "import time\n",
        "import copy\n",
        "from google.colab import drive\n",
        "\n",
        "drive.mount('/content/drive')\n",
        "os.chdir('/content/drive/My Drive/ML/Flight price predictor')\n",
        "!ls"
      ],
      "execution_count": 1,
      "outputs": [
        {
          "output_type": "stream",
          "text": [
            "Mounted at /content/drive\n",
            " Data_Train.xlsx\t\t Sample_submission.xlsx\n",
            "'Flight price predictor.ipynb'\t Test_set.xlsx\n"
          ],
          "name": "stdout"
        }
      ]
    },
    {
      "cell_type": "code",
      "metadata": {
        "id": "hcgyaMUUqz4L",
        "colab_type": "code",
        "colab": {}
      },
      "source": [
        "df_train = pd.read_excel('Data_Train.xlsx',header=0,parse_dates=[1,4])\n",
        "df_test=pd.read_excel('Test_set.xlsx',header=0,parse_dates=[1,4])\n",
        "train_orig=df_train.copy(deep=True)\n",
        "test_orig=df_test.copy(deep=True)"
      ],
      "execution_count": 2,
      "outputs": []
    },
    {
      "cell_type": "code",
      "metadata": {
        "id": "eCjqOlJ3lG0I",
        "colab_type": "code",
        "colab": {
          "base_uri": "https://localhost:8080/",
          "height": 194
        },
        "outputId": "91b7af6e-19ec-4436-b9f0-c0e9053f2bf7"
      },
      "source": [
        "df_train.head()"
      ],
      "execution_count": 3,
      "outputs": [
        {
          "output_type": "execute_result",
          "data": {
            "text/html": [
              "<div>\n",
              "<style scoped>\n",
              "    .dataframe tbody tr th:only-of-type {\n",
              "        vertical-align: middle;\n",
              "    }\n",
              "\n",
              "    .dataframe tbody tr th {\n",
              "        vertical-align: top;\n",
              "    }\n",
              "\n",
              "    .dataframe thead th {\n",
              "        text-align: right;\n",
              "    }\n",
              "</style>\n",
              "<table border=\"1\" class=\"dataframe\">\n",
              "  <thead>\n",
              "    <tr style=\"text-align: right;\">\n",
              "      <th></th>\n",
              "      <th>Airline</th>\n",
              "      <th>Date_of_Journey</th>\n",
              "      <th>Source</th>\n",
              "      <th>Destination</th>\n",
              "      <th>Route</th>\n",
              "      <th>Dep_Time</th>\n",
              "      <th>Arrival_Time</th>\n",
              "      <th>Duration</th>\n",
              "      <th>Total_Stops</th>\n",
              "      <th>Additional_Info</th>\n",
              "      <th>Price</th>\n",
              "    </tr>\n",
              "  </thead>\n",
              "  <tbody>\n",
              "    <tr>\n",
              "      <th>0</th>\n",
              "      <td>IndiGo</td>\n",
              "      <td>2019-03-24</td>\n",
              "      <td>Banglore</td>\n",
              "      <td>New Delhi</td>\n",
              "      <td>BLR → DEL</td>\n",
              "      <td>22:20</td>\n",
              "      <td>01:10 22 Mar</td>\n",
              "      <td>2h 50m</td>\n",
              "      <td>non-stop</td>\n",
              "      <td>No info</td>\n",
              "      <td>3897</td>\n",
              "    </tr>\n",
              "    <tr>\n",
              "      <th>1</th>\n",
              "      <td>Air India</td>\n",
              "      <td>2019-01-05</td>\n",
              "      <td>Kolkata</td>\n",
              "      <td>Banglore</td>\n",
              "      <td>CCU → IXR → BBI → BLR</td>\n",
              "      <td>05:50</td>\n",
              "      <td>13:15</td>\n",
              "      <td>7h 25m</td>\n",
              "      <td>2 stops</td>\n",
              "      <td>No info</td>\n",
              "      <td>7662</td>\n",
              "    </tr>\n",
              "    <tr>\n",
              "      <th>2</th>\n",
              "      <td>Jet Airways</td>\n",
              "      <td>2019-09-06</td>\n",
              "      <td>Delhi</td>\n",
              "      <td>Cochin</td>\n",
              "      <td>DEL → LKO → BOM → COK</td>\n",
              "      <td>09:25</td>\n",
              "      <td>04:25 10 Jun</td>\n",
              "      <td>19h</td>\n",
              "      <td>2 stops</td>\n",
              "      <td>No info</td>\n",
              "      <td>13882</td>\n",
              "    </tr>\n",
              "    <tr>\n",
              "      <th>3</th>\n",
              "      <td>IndiGo</td>\n",
              "      <td>2019-12-05</td>\n",
              "      <td>Kolkata</td>\n",
              "      <td>Banglore</td>\n",
              "      <td>CCU → NAG → BLR</td>\n",
              "      <td>18:05</td>\n",
              "      <td>23:30</td>\n",
              "      <td>5h 25m</td>\n",
              "      <td>1 stop</td>\n",
              "      <td>No info</td>\n",
              "      <td>6218</td>\n",
              "    </tr>\n",
              "    <tr>\n",
              "      <th>4</th>\n",
              "      <td>IndiGo</td>\n",
              "      <td>2019-01-03</td>\n",
              "      <td>Banglore</td>\n",
              "      <td>New Delhi</td>\n",
              "      <td>BLR → NAG → DEL</td>\n",
              "      <td>16:50</td>\n",
              "      <td>21:35</td>\n",
              "      <td>4h 45m</td>\n",
              "      <td>1 stop</td>\n",
              "      <td>No info</td>\n",
              "      <td>13302</td>\n",
              "    </tr>\n",
              "  </tbody>\n",
              "</table>\n",
              "</div>"
            ],
            "text/plain": [
              "       Airline Date_of_Journey    Source  ... Total_Stops Additional_Info  Price\n",
              "0       IndiGo      2019-03-24  Banglore  ...    non-stop         No info   3897\n",
              "1    Air India      2019-01-05   Kolkata  ...     2 stops         No info   7662\n",
              "2  Jet Airways      2019-09-06     Delhi  ...     2 stops         No info  13882\n",
              "3       IndiGo      2019-12-05   Kolkata  ...      1 stop         No info   6218\n",
              "4       IndiGo      2019-01-03  Banglore  ...      1 stop         No info  13302\n",
              "\n",
              "[5 rows x 11 columns]"
            ]
          },
          "metadata": {
            "tags": []
          },
          "execution_count": 3
        }
      ]
    },
    {
      "cell_type": "code",
      "metadata": {
        "id": "oHz7B8mmlNf9",
        "colab_type": "code",
        "colab": {}
      },
      "source": [
        "df_train['flight_month'] = df_train['Date_of_Journey'].dt.month\n",
        "df_test['flight_month'] = df_test['Date_of_Journey'].dt.month\n",
        "df_train['WEEKEND'] = ((pd.DatetimeIndex(df_train['Date_of_Journey']).dayofweek)//5+1).astype(int)\n",
        "df_test['WEEKEND'] = ((pd.DatetimeIndex(df_test['Date_of_Journey']).dayofweek)//5+1).astype(int)\n",
        "df_train['FLIGHTWEEK'] = df_train['Date_of_Journey'].dt.week\n",
        "df_test['FLIGHTWEEK'] = df_test['Date_of_Journey'].dt.week\n",
        "df_train['WEEKDAY'] = df_train['Date_of_Journey'].dt.dayofweek\n",
        "df_test['WEEKDAY'] = df_train['Date_of_Journey'].dt.dayofweek"
      ],
      "execution_count": 4,
      "outputs": []
    },
    {
      "cell_type": "code",
      "metadata": {
        "id": "eBLrAy5lnMlZ",
        "colab_type": "code",
        "colab": {
          "base_uri": "https://localhost:8080/",
          "height": 194
        },
        "outputId": "0fe42632-782a-4da3-8976-bb62f099c9e1"
      },
      "source": [
        "df_train.head()"
      ],
      "execution_count": 42,
      "outputs": [
        {
          "output_type": "execute_result",
          "data": {
            "text/html": [
              "<div>\n",
              "<style scoped>\n",
              "    .dataframe tbody tr th:only-of-type {\n",
              "        vertical-align: middle;\n",
              "    }\n",
              "\n",
              "    .dataframe tbody tr th {\n",
              "        vertical-align: top;\n",
              "    }\n",
              "\n",
              "    .dataframe thead th {\n",
              "        text-align: right;\n",
              "    }\n",
              "</style>\n",
              "<table border=\"1\" class=\"dataframe\">\n",
              "  <thead>\n",
              "    <tr style=\"text-align: right;\">\n",
              "      <th></th>\n",
              "      <th>Airline</th>\n",
              "      <th>Date_of_Journey</th>\n",
              "      <th>Source</th>\n",
              "      <th>Destination</th>\n",
              "      <th>Route</th>\n",
              "      <th>Dep_Time</th>\n",
              "      <th>Arrival_Time</th>\n",
              "      <th>Duration</th>\n",
              "      <th>Total_Stops</th>\n",
              "      <th>Additional_Info</th>\n",
              "      <th>Price</th>\n",
              "      <th>flight_month</th>\n",
              "      <th>WEEKEND</th>\n",
              "      <th>FLIGHTWEEK</th>\n",
              "      <th>WEEKDAY</th>\n",
              "      <th>Flight hours</th>\n",
              "    </tr>\n",
              "  </thead>\n",
              "  <tbody>\n",
              "    <tr>\n",
              "      <th>0</th>\n",
              "      <td>0</td>\n",
              "      <td>2019-03-24</td>\n",
              "      <td>5</td>\n",
              "      <td>3</td>\n",
              "      <td>BLR → DEL</td>\n",
              "      <td>22:20</td>\n",
              "      <td>01:10 22 Mar</td>\n",
              "      <td>2h 50m</td>\n",
              "      <td>0</td>\n",
              "      <td>0</td>\n",
              "      <td>3897</td>\n",
              "      <td>3</td>\n",
              "      <td>2</td>\n",
              "      <td>12</td>\n",
              "      <td>6</td>\n",
              "      <td>2</td>\n",
              "    </tr>\n",
              "    <tr>\n",
              "      <th>1</th>\n",
              "      <td>2</td>\n",
              "      <td>2019-01-05</td>\n",
              "      <td>2</td>\n",
              "      <td>5</td>\n",
              "      <td>CCU → IXR → BBI → BLR</td>\n",
              "      <td>05:50</td>\n",
              "      <td>13:15</td>\n",
              "      <td>7h 25m</td>\n",
              "      <td>2</td>\n",
              "      <td>0</td>\n",
              "      <td>7662</td>\n",
              "      <td>1</td>\n",
              "      <td>2</td>\n",
              "      <td>1</td>\n",
              "      <td>5</td>\n",
              "      <td>7</td>\n",
              "    </tr>\n",
              "    <tr>\n",
              "      <th>2</th>\n",
              "      <td>1</td>\n",
              "      <td>2019-09-06</td>\n",
              "      <td>3</td>\n",
              "      <td>6</td>\n",
              "      <td>DEL → LKO → BOM → COK</td>\n",
              "      <td>09:25</td>\n",
              "      <td>04:25 10 Jun</td>\n",
              "      <td>19h</td>\n",
              "      <td>2</td>\n",
              "      <td>0</td>\n",
              "      <td>13882</td>\n",
              "      <td>9</td>\n",
              "      <td>1</td>\n",
              "      <td>36</td>\n",
              "      <td>4</td>\n",
              "      <td>19</td>\n",
              "    </tr>\n",
              "    <tr>\n",
              "      <th>3</th>\n",
              "      <td>0</td>\n",
              "      <td>2019-12-05</td>\n",
              "      <td>2</td>\n",
              "      <td>5</td>\n",
              "      <td>CCU → NAG → BLR</td>\n",
              "      <td>18:05</td>\n",
              "      <td>23:30</td>\n",
              "      <td>5h 25m</td>\n",
              "      <td>1</td>\n",
              "      <td>0</td>\n",
              "      <td>6218</td>\n",
              "      <td>12</td>\n",
              "      <td>1</td>\n",
              "      <td>49</td>\n",
              "      <td>3</td>\n",
              "      <td>5</td>\n",
              "    </tr>\n",
              "    <tr>\n",
              "      <th>4</th>\n",
              "      <td>0</td>\n",
              "      <td>2019-01-03</td>\n",
              "      <td>5</td>\n",
              "      <td>3</td>\n",
              "      <td>BLR → NAG → DEL</td>\n",
              "      <td>16:50</td>\n",
              "      <td>21:35</td>\n",
              "      <td>4h 45m</td>\n",
              "      <td>1</td>\n",
              "      <td>0</td>\n",
              "      <td>13302</td>\n",
              "      <td>1</td>\n",
              "      <td>1</td>\n",
              "      <td>1</td>\n",
              "      <td>3</td>\n",
              "      <td>4</td>\n",
              "    </tr>\n",
              "  </tbody>\n",
              "</table>\n",
              "</div>"
            ],
            "text/plain": [
              "   Airline Date_of_Journey  Source  ...  FLIGHTWEEK WEEKDAY Flight hours\n",
              "0        0      2019-03-24       5  ...          12       6            2\n",
              "1        2      2019-01-05       2  ...           1       5            7\n",
              "2        1      2019-09-06       3  ...          36       4           19\n",
              "3        0      2019-12-05       2  ...          49       3            5\n",
              "4        0      2019-01-03       5  ...           1       3            4\n",
              "\n",
              "[5 rows x 16 columns]"
            ]
          },
          "metadata": {
            "tags": []
          },
          "execution_count": 42
        }
      ]
    },
    {
      "cell_type": "code",
      "metadata": {
        "id": "9sTKSuSarpTa",
        "colab_type": "code",
        "colab": {
          "base_uri": "https://localhost:8080/",
          "height": 194
        },
        "outputId": "7f7d328c-cc40-4d49-dfd4-b16ebf025768"
      },
      "source": [
        "df_test.head()"
      ],
      "execution_count": 43,
      "outputs": [
        {
          "output_type": "execute_result",
          "data": {
            "text/html": [
              "<div>\n",
              "<style scoped>\n",
              "    .dataframe tbody tr th:only-of-type {\n",
              "        vertical-align: middle;\n",
              "    }\n",
              "\n",
              "    .dataframe tbody tr th {\n",
              "        vertical-align: top;\n",
              "    }\n",
              "\n",
              "    .dataframe thead th {\n",
              "        text-align: right;\n",
              "    }\n",
              "</style>\n",
              "<table border=\"1\" class=\"dataframe\">\n",
              "  <thead>\n",
              "    <tr style=\"text-align: right;\">\n",
              "      <th></th>\n",
              "      <th>Airline</th>\n",
              "      <th>Date_of_Journey</th>\n",
              "      <th>Source</th>\n",
              "      <th>Destination</th>\n",
              "      <th>Route</th>\n",
              "      <th>Dep_Time</th>\n",
              "      <th>Arrival_Time</th>\n",
              "      <th>Duration</th>\n",
              "      <th>Total_Stops</th>\n",
              "      <th>Additional_Info</th>\n",
              "      <th>flight_month</th>\n",
              "      <th>WEEKEND</th>\n",
              "      <th>FLIGHTWEEK</th>\n",
              "      <th>WEEKDAY</th>\n",
              "      <th>Flight hours</th>\n",
              "    </tr>\n",
              "  </thead>\n",
              "  <tbody>\n",
              "    <tr>\n",
              "      <th>0</th>\n",
              "      <td>1</td>\n",
              "      <td>2019-06-06</td>\n",
              "      <td>3</td>\n",
              "      <td>6</td>\n",
              "      <td>DEL → BOM → COK</td>\n",
              "      <td>17:30</td>\n",
              "      <td>04:25 07 Jun</td>\n",
              "      <td>10h 55m</td>\n",
              "      <td>1</td>\n",
              "      <td>0</td>\n",
              "      <td>6</td>\n",
              "      <td>1</td>\n",
              "      <td>23</td>\n",
              "      <td>6</td>\n",
              "      <td>10</td>\n",
              "    </tr>\n",
              "    <tr>\n",
              "      <th>1</th>\n",
              "      <td>0</td>\n",
              "      <td>2019-12-05</td>\n",
              "      <td>2</td>\n",
              "      <td>5</td>\n",
              "      <td>CCU → MAA → BLR</td>\n",
              "      <td>06:20</td>\n",
              "      <td>10:20</td>\n",
              "      <td>4h</td>\n",
              "      <td>1</td>\n",
              "      <td>0</td>\n",
              "      <td>12</td>\n",
              "      <td>1</td>\n",
              "      <td>49</td>\n",
              "      <td>5</td>\n",
              "      <td>4</td>\n",
              "    </tr>\n",
              "    <tr>\n",
              "      <th>2</th>\n",
              "      <td>1</td>\n",
              "      <td>2019-05-21</td>\n",
              "      <td>3</td>\n",
              "      <td>6</td>\n",
              "      <td>DEL → BOM → COK</td>\n",
              "      <td>19:15</td>\n",
              "      <td>19:00 22 May</td>\n",
              "      <td>23h 45m</td>\n",
              "      <td>1</td>\n",
              "      <td>1</td>\n",
              "      <td>5</td>\n",
              "      <td>1</td>\n",
              "      <td>21</td>\n",
              "      <td>4</td>\n",
              "      <td>23</td>\n",
              "    </tr>\n",
              "    <tr>\n",
              "      <th>3</th>\n",
              "      <td>4</td>\n",
              "      <td>2019-05-21</td>\n",
              "      <td>3</td>\n",
              "      <td>6</td>\n",
              "      <td>DEL → BOM → COK</td>\n",
              "      <td>08:00</td>\n",
              "      <td>21:00</td>\n",
              "      <td>13h</td>\n",
              "      <td>1</td>\n",
              "      <td>0</td>\n",
              "      <td>5</td>\n",
              "      <td>1</td>\n",
              "      <td>21</td>\n",
              "      <td>3</td>\n",
              "      <td>13</td>\n",
              "    </tr>\n",
              "    <tr>\n",
              "      <th>4</th>\n",
              "      <td>7</td>\n",
              "      <td>2019-06-24</td>\n",
              "      <td>5</td>\n",
              "      <td>3</td>\n",
              "      <td>BLR → DEL</td>\n",
              "      <td>23:55</td>\n",
              "      <td>02:45 25 Jun</td>\n",
              "      <td>2h 50m</td>\n",
              "      <td>0</td>\n",
              "      <td>0</td>\n",
              "      <td>6</td>\n",
              "      <td>1</td>\n",
              "      <td>26</td>\n",
              "      <td>3</td>\n",
              "      <td>2</td>\n",
              "    </tr>\n",
              "  </tbody>\n",
              "</table>\n",
              "</div>"
            ],
            "text/plain": [
              "   Airline Date_of_Journey  Source  ...  FLIGHTWEEK WEEKDAY Flight hours\n",
              "0        1      2019-06-06       3  ...          23       6           10\n",
              "1        0      2019-12-05       2  ...          49       5            4\n",
              "2        1      2019-05-21       3  ...          21       4           23\n",
              "3        4      2019-05-21       3  ...          21       3           13\n",
              "4        7      2019-06-24       5  ...          26       3            2\n",
              "\n",
              "[5 rows x 15 columns]"
            ]
          },
          "metadata": {
            "tags": []
          },
          "execution_count": 43
        }
      ]
    },
    {
      "cell_type": "code",
      "metadata": {
        "id": "_JCNBXqynOCr",
        "colab_type": "code",
        "colab": {}
      },
      "source": [
        "dict_cities = {'Mumbai':1 , 'Kolkata' : 2, 'Delhi' : 3, 'Chennai' : 4, 'Banglore': 5,'New Delhi':3,'Cochin':6,'Hyderabad':7}\n",
        "#df_train = df_train.replace({'Source':dict_cities})\n",
        "## replacing cities with digits"
      ],
      "execution_count": 7,
      "outputs": []
    },
    {
      "cell_type": "code",
      "metadata": {
        "id": "g_hA8V57p12J",
        "colab_type": "code",
        "colab": {}
      },
      "source": [
        "df_test = df_test.replace({'Source':dict_cities})\n",
        "df_train = df_train.replace({'Source':dict_cities})"
      ],
      "execution_count": 8,
      "outputs": []
    },
    {
      "cell_type": "code",
      "metadata": {
        "id": "M4e_s58xqNKN",
        "colab_type": "code",
        "colab": {}
      },
      "source": [
        "# replace destination\n",
        "df_train = df_train.replace({'Destination':dict_cities})\n",
        "df_test = df_test.replace({'Destination':dict_cities})"
      ],
      "execution_count": 12,
      "outputs": []
    },
    {
      "cell_type": "code",
      "metadata": {
        "id": "IbFj6KPFr74U",
        "colab_type": "code",
        "colab": {}
      },
      "source": [
        "## replacing total stops with integers of 0,1,2,3,4 for respective number of stops , nan is taken as 0 stops\n",
        "dict_stops={'non-stop':0,'2 stops':2,'1 stop':1,'3 stops':3,'4 stops':4 }\n",
        "df_train['Total_Stops'].fillna(0, inplace=True)"
      ],
      "execution_count": 14,
      "outputs": []
    },
    {
      "cell_type": "code",
      "metadata": {
        "id": "QHnUpXc1tr5j",
        "colab_type": "code",
        "colab": {}
      },
      "source": [
        "#replace total stops in train set\n",
        "df_train = df_train.replace({'Total_Stops':dict_stops})"
      ],
      "execution_count": 15,
      "outputs": []
    },
    {
      "cell_type": "code",
      "metadata": {
        "id": "1H5HS37c2pgP",
        "colab_type": "code",
        "colab": {}
      },
      "source": [
        "df_test['Total_Stops'].fillna(0, inplace=True)"
      ],
      "execution_count": 16,
      "outputs": []
    },
    {
      "cell_type": "code",
      "metadata": {
        "id": "xg_9J7m93BPr",
        "colab_type": "code",
        "colab": {}
      },
      "source": [
        "df_test = df_test.replace({'Total_Stops':dict_stops})"
      ],
      "execution_count": 17,
      "outputs": []
    },
    {
      "cell_type": "code",
      "metadata": {
        "id": "wPQcjZY63FYZ",
        "colab_type": "code",
        "colab": {
          "base_uri": "https://localhost:8080/",
          "height": 70
        },
        "outputId": "c283994e-cbb2-4bc8-d040-63c8a3fb84a6"
      },
      "source": [
        "## replacing additional info with digits\n",
        "df_test['Additional_Info'].unique()"
      ],
      "execution_count": null,
      "outputs": [
        {
          "output_type": "execute_result",
          "data": {
            "text/plain": [
              "array(['No info', 'In-flight meal not included',\n",
              "       'No check-in baggage included', '1 Long layover', 'Business class',\n",
              "       'Change airports'], dtype=object)"
            ]
          },
          "metadata": {
            "tags": []
          },
          "execution_count": 147
        }
      ]
    },
    {
      "cell_type": "code",
      "metadata": {
        "id": "h11y-lsz3QSp",
        "colab_type": "code",
        "colab": {}
      },
      "source": [
        "dict_info={'No info':0,'No Info':0,'In-flight meal not included':1,'No check-in baggage included':2,'1 Short layover':3,'1 Long layover':4,'Change airports':5,'Business class':6,'Red-eye flight':7,'2 Long layover':8}"
      ],
      "execution_count": 20,
      "outputs": []
    },
    {
      "cell_type": "code",
      "metadata": {
        "id": "A9e8deoA3qdx",
        "colab_type": "code",
        "colab": {}
      },
      "source": [
        "df_train = df_train.replace({'Additional_Info':dict_info})"
      ],
      "execution_count": 21,
      "outputs": []
    },
    {
      "cell_type": "code",
      "metadata": {
        "id": "Bp5Fl6KN3wB4",
        "colab_type": "code",
        "colab": {}
      },
      "source": [
        "df_test = df_test.replace({'Additional_Info':dict_info})"
      ],
      "execution_count": 22,
      "outputs": []
    },
    {
      "cell_type": "code",
      "metadata": {
        "id": "ZLKdz73w48ci",
        "colab_type": "code",
        "colab": {}
      },
      "source": [
        "df_train['Flight hours']=df_train['Duration'].str.split('h').str[0]"
      ],
      "execution_count": 29,
      "outputs": []
    },
    {
      "cell_type": "code",
      "metadata": {
        "id": "MPWpOxBt5KxC",
        "colab_type": "code",
        "colab": {}
      },
      "source": [
        "df_test['Flight hours']=df_test['Duration'].str.split('h').str[0]"
      ],
      "execution_count": 31,
      "outputs": []
    },
    {
      "cell_type": "code",
      "metadata": {
        "id": "7vGUVfIkjj2x",
        "colab_type": "code",
        "colab": {
          "base_uri": "https://localhost:8080/",
          "height": 88
        },
        "outputId": "998fc13e-bdff-47a2-9d77-c33944679dd6"
      },
      "source": [
        "df_train['Airline'].unique()"
      ],
      "execution_count": 39,
      "outputs": [
        {
          "output_type": "execute_result",
          "data": {
            "text/plain": [
              "array(['IndiGo', 'Air India', 'Jet Airways', 'SpiceJet',\n",
              "       'Multiple carriers', 'GoAir', 'Vistara', 'Air Asia',\n",
              "       'Vistara Premium economy', 'Jet Airways Business',\n",
              "       'Multiple carriers Premium economy', 'Trujet'], dtype=object)"
            ]
          },
          "metadata": {
            "tags": []
          },
          "execution_count": 39
        }
      ]
    },
    {
      "cell_type": "code",
      "metadata": {
        "id": "cWs2RRuRjgC-",
        "colab_type": "code",
        "colab": {}
      },
      "source": [
        "dict_airline={'IndiGo':0,'Air India':2,'Jet Airways':1,'SpiceJet':3,'Multiple carriers':4,'GoAir':5,'Vistara':6,'Air Asia':7,'Vistara Premium economy':8,'Jet Airways Business':9,'Multiple carriers Premium economy':10,'Trujet':11 }"
      ],
      "execution_count": 40,
      "outputs": []
    },
    {
      "cell_type": "code",
      "metadata": {
        "id": "8toRPXkbj8C-",
        "colab_type": "code",
        "colab": {}
      },
      "source": [
        "df_train = df_train.replace({'Airline':dict_airline})\n",
        "df_test = df_test.replace({'Airline':dict_airline})"
      ],
      "execution_count": 41,
      "outputs": []
    },
    {
      "cell_type": "code",
      "metadata": {
        "id": "RgedDSmokD5O",
        "colab_type": "code",
        "colab": {}
      },
      "source": [
        "y=df_train['Price']\n",
        "train=df_train.copy()"
      ],
      "execution_count": 48,
      "outputs": []
    },
    {
      "cell_type": "code",
      "metadata": {
        "id": "uDKEjwjSmdfT",
        "colab_type": "code",
        "colab": {}
      },
      "source": [
        "train=train.drop(['Date_of_Journey','Dep_Time','Arrival_Time','Duration'],axis=1)"
      ],
      "execution_count": 57,
      "outputs": []
    },
    {
      "cell_type": "code",
      "metadata": {
        "id": "Hr9K5soRnoPB",
        "colab_type": "code",
        "colab": {}
      },
      "source": [
        "df_train['Flight hours']=df_train['Flight hours'].str.split('m').str[0]"
      ],
      "execution_count": 61,
      "outputs": []
    },
    {
      "cell_type": "code",
      "metadata": {
        "id": "r-w5ybFLn2jQ",
        "colab_type": "code",
        "colab": {}
      },
      "source": [
        "train=train.drop(['Flight hours'],axis=1)"
      ],
      "execution_count": 63,
      "outputs": []
    },
    {
      "cell_type": "code",
      "metadata": {
        "id": "9KcpFuHCmS22",
        "colab_type": "code",
        "colab": {
          "base_uri": "https://localhost:8080/",
          "height": 159
        },
        "outputId": "6f19e7f2-745a-4362-bf29-9613f9b84e77"
      },
      "source": [
        "xgb = XGBRegressor(max_depth = 20,objective='reg:linear',n_estimators=500)\n",
        "xgb.fit(train,y)"
      ],
      "execution_count": 64,
      "outputs": [
        {
          "output_type": "stream",
          "text": [
            "[05:39:30] WARNING: /workspace/src/objective/regression_obj.cu:152: reg:linear is now deprecated in favor of reg:squarederror.\n"
          ],
          "name": "stdout"
        },
        {
          "output_type": "execute_result",
          "data": {
            "text/plain": [
              "XGBRegressor(base_score=0.5, booster='gbtree', colsample_bylevel=1,\n",
              "             colsample_bynode=1, colsample_bytree=1, gamma=0,\n",
              "             importance_type='gain', learning_rate=0.1, max_delta_step=0,\n",
              "             max_depth=20, min_child_weight=1, missing=None, n_estimators=500,\n",
              "             n_jobs=1, nthread=None, objective='reg:linear', random_state=0,\n",
              "             reg_alpha=0, reg_lambda=1, scale_pos_weight=1, seed=None,\n",
              "             silent=None, subsample=1, verbosity=1)"
            ]
          },
          "metadata": {
            "tags": []
          },
          "execution_count": 64
        }
      ]
    },
    {
      "cell_type": "code",
      "metadata": {
        "id": "CoxS09LRmWIn",
        "colab_type": "code",
        "colab": {
          "base_uri": "https://localhost:8080/",
          "height": 35
        },
        "outputId": "b9143f92-1569-4623-ed9a-b8483aadb37e"
      },
      "source": [
        "xgb.score(train,y) "
      ],
      "execution_count": 65,
      "outputs": [
        {
          "output_type": "execute_result",
          "data": {
            "text/plain": [
              "0.9999999999987642"
            ]
          },
          "metadata": {
            "tags": []
          },
          "execution_count": 65
        }
      ]
    }
  ]
}